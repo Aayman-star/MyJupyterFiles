{
 "cells": [
  {
   "cell_type": "code",
   "execution_count": 5,
   "metadata": {},
   "outputs": [
    {
     "name": "stdout",
     "output_type": "stream",
     "text": [
      "4\n"
     ]
    }
   ],
   "source": [
    "#Python code to check the number of times the number goes through the loop to be converted into a unit\n",
    "\n",
    "def persistence(n):\n",
    "    b = str(n)  \n",
    "    if len(b) == 1:\n",
    "        return 0\n",
    "    \n",
    "    count = 0             \n",
    "    while len(b) != 1:    \n",
    "        prod = 1          \n",
    "        for x in b:    \n",
    "            prod = prod * int(x)\n",
    "            b = str(prod)\n",
    "        count = count + 1\n",
    "    return count\n",
    "    \n",
    "    \n",
    "\n",
    "print(persistence(999))"
   ]
  },
  {
   "cell_type": "code",
   "execution_count": 9,
   "metadata": {},
   "outputs": [
    {
     "name": "stdout",
     "output_type": "stream",
     "text": [
      "15\n"
     ]
    }
   ],
   "source": [
    "from functools import reduce\n",
    "def do_sum(x1, x2): return x1+x2\n",
    "Sum =  reduce(do_sum,[1,2,3,4,5])\n",
    "print(Sum)"
   ]
  },
  {
   "cell_type": "code",
   "execution_count": 17,
   "metadata": {},
   "outputs": [
    {
     "name": "stdout",
     "output_type": "stream",
     "text": [
      "[1, 4, 9, 16, 25]\n",
      "1\n",
      "4\n"
     ]
    }
   ],
   "source": [
    "def Square(number):\n",
    "    return number * number\n",
    "\n",
    "L1 = [1, 2, 3, 4, 5]\n",
    "Square_values  =  []\n",
    "\n",
    "\n",
    "for x in L1:\n",
    "    Square_values.append(Square(x))\n",
    "    \n",
    "Squared_Values = map(Square, L1)\n",
    "    \n",
    "print(Square_values)\n",
    "#print(Squared_Values)\n",
    "print(next(Squared_Values))\n",
    "print(next(Squared_Values))"
   ]
  },
  {
   "cell_type": "code",
   "execution_count": 25,
   "metadata": {},
   "outputs": [
    {
     "name": "stdout",
     "output_type": "stream",
     "text": [
      "4\n",
      "This-is-a-test-string\n"
     ]
    }
   ],
   "source": [
    "test_String = \"This-is-a-test-string\"\n",
    "print(test_String.index(\"-\"))\n",
    "while test_String.index(\"-\") == True:\n",
    "    for x in test_String:\n",
    "        if x == \"-\":\n",
    "           [x+1].Capitalize()\n",
    "        test_String.remove(x)\n",
    "        \n",
    "print(test_String)"
   ]
  },
  {
   "cell_type": "code",
   "execution_count": 17,
   "metadata": {},
   "outputs": [
    {
     "name": "stdout",
     "output_type": "stream",
     "text": [
      "thisIsATestString\n"
     ]
    }
   ],
   "source": [
    "name = \"this-is-a-test-string\"\n",
    "name = name.split(\"-\")\n",
    "newstring = \"\"\n",
    "newstring += name[0]\n",
    "name = name[1::]\n",
    "\n",
    "for x in name:\n",
    "    newstring += x.capitalize()\n",
    "\n",
    "print(newstring)\n",
    "#print(name)\n",
    "\n",
    "\n",
    "\n"
   ]
  },
  {
   "cell_type": "code",
   "execution_count": 4,
   "metadata": {},
   "outputs": [
    {
     "name": "stdout",
     "output_type": "stream",
     "text": [
      "TheStealthWarrior\n"
     ]
    }
   ],
   "source": [
    "def to_camel_case(text):\n",
    "    import re\n",
    "    text = re.split('[- _]',text)\n",
    "    #print(text)\n",
    "    newstring = \"\"\n",
    "    newstring += text[0]\n",
    "    text = text[1::]\n",
    "    \n",
    "    for x in text:\n",
    "        newstring += x.capitalize()\n",
    "        \n",
    "        \n",
    "    return newstring\n",
    "\n",
    "print(to_camel_case(\"The_Stealth_Warrior\"))"
   ]
  },
  {
   "cell_type": "code",
   "execution_count": 7,
   "metadata": {},
   "outputs": [
    {
     "name": "stdout",
     "output_type": "stream",
     "text": [
      "This Is A Test String\n",
      "This is a test string\n"
     ]
    }
   ],
   "source": [
    "str1 = \"tHis IS a tEst STRinG\"\n",
    "print(str1.title())\n",
    "print(str1.capitalize())"
   ]
  },
  {
   "cell_type": "code",
   "execution_count": 3,
   "metadata": {},
   "outputs": [
    {
     "name": "stdout",
     "output_type": "stream",
     "text": [
      "[50, 1, 5]\n",
      "The decimal equivalent is : 5\n"
     ]
    }
   ],
   "source": [
    "def solution(roman):\n",
    "    R2D= {\n",
    "        \"I\" : 1,\n",
    "         \"IV\" : 4,\n",
    "          \"V\" : 5,\n",
    "           \"IX\" : 9,\n",
    "         \"X\" : 10,\n",
    "       \"XL\" : 40,\n",
    "        \"L\" : 50,\n",
    "         \"XC\" : 90,\n",
    "         \"C\"  : 100,\n",
    "         \"CD\" : 400,\n",
    "          \"D\" :500,\n",
    "        \"CM\" : 900,\n",
    "        \"M\" : 1000\n",
    "    \n",
    "}   \n",
    "    \n",
    "    decimal = []\n",
    "\n",
    "    for x in roman:\n",
    "        decimal.append(R2D[x])\n",
    "    print(decimal)\n",
    "    Sum = 0\n",
    "    for y in decimal:\n",
    "        Sum = Sum + y\n",
    "\n",
    "    return y\n",
    "\n",
    "print(\"The decimal equivalent is :\",solution(\"LIV\"))"
   ]
  },
  {
   "cell_type": "code",
   "execution_count": 4,
   "metadata": {},
   "outputs": [
    {
     "name": "stdout",
     "output_type": "stream",
     "text": [
      "15\n"
     ]
    }
   ],
   "source": [
    "y = [1,2,3,4,5]\n",
    "sum1 = 0\n",
    "for x in y:\n",
    "    sum1 += x\n",
    "    \n",
    "print(sum1)"
   ]
  },
  {
   "cell_type": "code",
   "execution_count": null,
   "metadata": {},
   "outputs": [],
   "source": [
    "test = \"MCMXCVI\"\n",
    "test1 = []\n",
    "\n",
    "for x in test:\n",
    "    text1.append(x)\n",
    "    if x == \"I\" and test[test.index(x) + 1] == \"V\":\n",
    "        test1 = test1 + [x + test[test.index(x) + 1]]\n",
    "            "
   ]
  },
  {
   "cell_type": "code",
   "execution_count": null,
   "metadata": {},
   "outputs": [],
   "source": []
  }
 ],
 "metadata": {
  "kernelspec": {
   "display_name": "Python 3",
   "language": "python",
   "name": "python3"
  },
  "language_info": {
   "codemirror_mode": {
    "name": "ipython",
    "version": 3
   },
   "file_extension": ".py",
   "mimetype": "text/x-python",
   "name": "python",
   "nbconvert_exporter": "python",
   "pygments_lexer": "ipython3",
   "version": "3.7.4"
  }
 },
 "nbformat": 4,
 "nbformat_minor": 2
}
