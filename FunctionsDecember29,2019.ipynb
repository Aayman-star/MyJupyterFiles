{
 "cells": [
  {
   "cell_type": "code",
   "execution_count": 1,
   "metadata": {},
   "outputs": [],
   "source": [
    "##Functions\n",
    "##A function that does not run without arguments is called Required Arguments Function\n",
    "##Predefined functions are the ones that are defined already\n",
    "## User defined functions : Defined by users  and pre-defined functions : already defined functions\n",
    "##Default argument :  whose value has been set.\n",
    "## arguments can be passed both either from a dictionary or from a list\n",
    "##Recursive function : A function that repeatedly calls itself\n",
    "##Generator function  : A function that does not hog the memory and remembers its last value\n",
    "## The most difficult thing in programming is to build a concept"
   ]
  },
  {
   "cell_type": "markdown",
   "metadata": {},
   "source": [
    "# Pre-defined functions"
   ]
  },
  {
   "cell_type": "code",
   "execution_count": 3,
   "metadata": {},
   "outputs": [
    {
     "name": "stdout",
     "output_type": "stream",
     "text": [
      "abc\n",
      "13\n",
      "<class 'int'>\n",
      "1792262722288\n"
     ]
    }
   ],
   "source": [
    "print(\"abc\")\n",
    "print(len(\"abcdefghisjkl\"))\n",
    "print(type(22))\n",
    "print(id(\"dd\"))"
   ]
  },
  {
   "cell_type": "markdown",
   "metadata": {},
   "source": [
    "# User defined function"
   ]
  },
  {
   "cell_type": "code",
   "execution_count": 13,
   "metadata": {},
   "outputs": [
    {
     "name": "stdout",
     "output_type": "stream",
     "text": [
      "------***---------\n",
      "Pakistan ZindaBad\n",
      "We are Pakistani\n",
      "We love our country\n",
      "------***---------\n"
     ]
    }
   ],
   "source": [
    "def myfunc():\n",
    "\n",
    "    print(\"------***---------\")\n",
    "    print(\"Pakistan ZindaBad\")   ##Body statement 1\n",
    "    print(\"We are Pakistani\")    ##Body statement 2\n",
    "    print(\"We love our country\") ##Body statement 3\n",
    "    print(\"------***---------\")\n",
    "    \n",
    "    \n",
    "myfunc()  ##Function call"
   ]
  },
  {
   "cell_type": "code",
   "execution_count": 14,
   "metadata": {},
   "outputs": [
    {
     "name": "stdout",
     "output_type": "stream",
     "text": [
      "------***---------\n",
      "Pakistan ZindaBad\n",
      "We are Pakistani\n",
      "We love our country\n",
      "------***---------\n",
      "------***---------\n",
      "Pakistan ZindaBad\n",
      "We are Pakistani\n",
      "We love our country\n",
      "------***---------\n"
     ]
    }
   ],
   "source": [
    "myfunc() ##Function call\n",
    "myfunc()"
   ]
  },
  {
   "cell_type": "code",
   "execution_count": 15,
   "metadata": {},
   "outputs": [
    {
     "name": "stdout",
     "output_type": "stream",
     "text": [
      "------***---------\n",
      "Pakistan ZindaBad\n",
      "We are Pakistani\n",
      "We love our country\n",
      "------***---------\n",
      "This is example\n",
      "Of Python functions\n",
      "------***---------\n",
      "Pakistan ZindaBad\n",
      "We are Pakistani\n",
      "We love our country\n",
      "------***---------\n"
     ]
    }
   ],
   "source": [
    "##linear programming : one line for every thing\n",
    "##Functional programming : body or block structure,\n",
    "myfunc()\n",
    "print(\"This is example\")\n",
    "print(\"Of Python functions\")\n",
    "myfunc()"
   ]
  },
  {
   "cell_type": "markdown",
   "metadata": {},
   "source": [
    "# Required Arguments"
   ]
  },
  {
   "cell_type": "code",
   "execution_count": 17,
   "metadata": {},
   "outputs": [
    {
     "name": "stdout",
     "output_type": "stream",
     "text": [
      "\n",
      "    PIAIC Islamabad\n",
      "    id : 1\n",
      "    Name : Aayman\n",
      "    father's Name : Khalid\n",
      "    course :AI\n",
      "    timing : 9 to 12\n",
      "    \n",
      "\n",
      "    PIAIC Islamabad\n",
      "    id : 2\n",
      "    Name : aamna\n",
      "    father's Name : khan\n",
      "    course :AI\n",
      "    timing : 9 to 12\n",
      "    \n"
     ]
    }
   ],
   "source": [
    "def id_card(sid, sname, fname, course, timing):  ##Function to print a student ID card\n",
    "    text = \"\"\"\n",
    "    PIAIC Islamabad\n",
    "    id : {}\n",
    "    Name : {}\n",
    "    father's Name : {}\n",
    "    course :{}\n",
    "    timing : {}\n",
    "    \"\"\".format(sid, sname, fname, course, timing)  ##this is also a string method\n",
    "    print(text)\n",
    "    \n",
    "id_card(1, \"Aayman\", \"Khalid\", \"AI\", \"9 to 12\")\n",
    "id_card(2, \"aamna\", \"khan\", \"AI\", \"9 to 12\")"
   ]
  },
  {
   "cell_type": "code",
   "execution_count": 1,
   "metadata": {},
   "outputs": [
    {
     "ename": "NameError",
     "evalue": "name 'id_card' is not defined",
     "output_type": "error",
     "traceback": [
      "\u001b[1;31m---------------------------------------------------------------------------\u001b[0m",
      "\u001b[1;31mNameError\u001b[0m                                 Traceback (most recent call last)",
      "\u001b[1;32m<ipython-input-1-2ccb58bdc212>\u001b[0m in \u001b[0;36m<module>\u001b[1;34m\u001b[0m\n\u001b[0;32m      4\u001b[0m        ]\n\u001b[0;32m      5\u001b[0m \u001b[1;32mfor\u001b[0m \u001b[0mv\u001b[0m \u001b[1;32min\u001b[0m \u001b[0mdata\u001b[0m\u001b[1;33m:\u001b[0m\u001b[1;33m\u001b[0m\u001b[1;33m\u001b[0m\u001b[0m\n\u001b[1;32m----> 6\u001b[1;33m        \u001b[0mid_card\u001b[0m\u001b[1;33m(\u001b[0m\u001b[1;33m*\u001b[0m\u001b[0mv\u001b[0m\u001b[1;33m)\u001b[0m  \u001b[1;31m##retrieving arguments from a list in a sequence,arguments will be automatically passed in a sequence\u001b[0m\u001b[1;33m\u001b[0m\u001b[1;33m\u001b[0m\u001b[0m\n\u001b[0m",
      "\u001b[1;31mNameError\u001b[0m: name 'id_card' is not defined"
     ]
    }
   ],
   "source": [
    "data = [[1,\"Aayman\", \"Khalid\", \"AI\", \"9 to 12\"], \n",
    "        [2, \"aamna\", \"khan\", \"AI\", \"9 to 12\"],\n",
    "        [3,\"beenish\", \"Khan\", \"IoT\", \"12 to 3\"]\n",
    "       ]\n",
    "for v in data:\n",
    "       id_card(*v)  ##retrieving arguments from a list in a sequence,arguments will be automatically passed in a sequence"
   ]
  },
  {
   "cell_type": "markdown",
   "metadata": {},
   "source": [
    "# Optional arguments"
   ]
  },
  {
   "cell_type": "code",
   "execution_count": 28,
   "metadata": {},
   "outputs": [
    {
     "name": "stdout",
     "output_type": "stream",
     "text": [
      "10 0 0\n",
      "10\n"
     ]
    }
   ],
   "source": [
    "def abc(x, y = 0, z = 0):               ##if you pass the value of this argument,the function runs according to that otherwise \n",
    "                                        ## these parameters have a predefined value\n",
    "    print(x, y, z)\n",
    "    print(x + y + z)\n",
    "    \n",
    "abc(10)"
   ]
  },
  {
   "cell_type": "code",
   "execution_count": 24,
   "metadata": {},
   "outputs": [
    {
     "name": "stdout",
     "output_type": "stream",
     "text": [
      "5 7 0\n",
      "12\n"
     ]
    }
   ],
   "source": [
    "abc(5,7)"
   ]
  },
  {
   "cell_type": "code",
   "execution_count": 25,
   "metadata": {},
   "outputs": [
    {
     "name": "stdout",
     "output_type": "stream",
     "text": [
      "5 7 8\n",
      "20\n"
     ]
    }
   ],
   "source": [
    "abc(5,7,8)"
   ]
  },
  {
   "cell_type": "markdown",
   "metadata": {},
   "source": [
    "# Non-Return Function ##Functions that execute but their value cannot be stored in a variable"
   ]
  },
  {
   "cell_type": "code",
   "execution_count": 26,
   "metadata": {},
   "outputs": [
    {
     "name": "stdout",
     "output_type": "stream",
     "text": [
      "Pakistan\n",
      "None\n"
     ]
    }
   ],
   "source": [
    "abc = print(\"Pakistan\")\n",
    "print(abc)"
   ]
  },
  {
   "cell_type": "code",
   "execution_count": 27,
   "metadata": {},
   "outputs": [
    {
     "ename": "TypeError",
     "evalue": "'NoneType' object is not callable",
     "output_type": "error",
     "traceback": [
      "\u001b[1;31m---------------------------------------------------------------------------\u001b[0m",
      "\u001b[1;31mTypeError\u001b[0m                                 Traceback (most recent call last)",
      "\u001b[1;32m<ipython-input-27-305766318a9e>\u001b[0m in \u001b[0;36m<module>\u001b[1;34m\u001b[0m\n\u001b[1;32m----> 1\u001b[1;33m \u001b[0mabc\u001b[0m\u001b[1;33m(\u001b[0m\u001b[1;36m5\u001b[0m\u001b[1;33m,\u001b[0m \u001b[1;36m7\u001b[0m \u001b[1;33m,\u001b[0m \u001b[1;36m9\u001b[0m\u001b[1;33m)\u001b[0m\u001b[1;33m\u001b[0m\u001b[1;33m\u001b[0m\u001b[0m\n\u001b[0m",
      "\u001b[1;31mTypeError\u001b[0m: 'NoneType' object is not callable"
     ]
    }
   ],
   "source": [
    "abc(5, 7 , 9)"
   ]
  },
  {
   "cell_type": "code",
   "execution_count": 29,
   "metadata": {},
   "outputs": [
    {
     "name": "stdout",
     "output_type": "stream",
     "text": [
      "1 3 4\n",
      "8\n"
     ]
    }
   ],
   "source": [
    "abc(1, 3, 4)"
   ]
  },
  {
   "cell_type": "markdown",
   "metadata": {},
   "source": [
    "# Return Functions"
   ]
  },
  {
   "cell_type": "code",
   "execution_count": 42,
   "metadata": {},
   "outputs": [
    {
     "name": "stdout",
     "output_type": "stream",
     "text": [
      "\n",
      "    PIAIC Islamabad\n",
      "    id : 1\n",
      "    Name : Aayman\n",
      "    father's Name : Khalid\n",
      "    course :AI\n",
      "    timing : 9 to 12\n",
      "     Aayman Khalid\n"
     ]
    }
   ],
   "source": [
    "def id_card(sid, sname, fname, course, timing):  ##Function to print a student ID card\n",
    "    text = \"\"\"\n",
    "    PIAIC Islamabad\n",
    "    id : {}\n",
    "    Name : {}\n",
    "    father's Name : {}\n",
    "    course :{}\n",
    "    timing : {}\n",
    "    \"\"\".format(sid, sname, fname, course, timing)  ##this is also a string method\n",
    "    return text, \"Aayman\", \"Khalid\"\n",
    "\n",
    "print(*id_card(1,\"Aayman\",\"Khalid\",\"AI\",\"9 to 12\"))"
   ]
  },
  {
   "cell_type": "code",
   "execution_count": 44,
   "metadata": {},
   "outputs": [
    {
     "name": "stdout",
     "output_type": "stream",
     "text": [
      "2\n"
     ]
    }
   ],
   "source": [
    "def abc(x = 1, y = 1, z = 1):\n",
    "    return(x * y + z)\n",
    "\n",
    "print(abc(2, 0, 2))"
   ]
  },
  {
   "cell_type": "markdown",
   "metadata": {},
   "source": [
    "# KeyWord arguments"
   ]
  },
  {
   "cell_type": "code",
   "execution_count": null,
   "metadata": {},
   "outputs": [],
   "source": [
    " def id_card(sid, sname, fname, course, timing):  ##Function to print a student ID card\n",
    "    text = \"\"\"\n",
    "    PIAIC Islamabad\n",
    "    id : {}\n",
    "    Name : {}\n",
    "    father's Name : {}\n",
    "    course :{}\n",
    "    timing : {}\n",
    "    \"\"\".format(sid, sname, fname, course, timing)  ##this is also a string method\n",
    "    return text\n",
    "\n",
    "print(id_card(sname = \"Aayman\", fname = \"Khalid\", course = \"AI\",sid = \"2\", timing = \"9 to 12\"))"
   ]
  },
  {
   "cell_type": "code",
   "execution_count": 49,
   "metadata": {},
   "outputs": [],
   "source": [
    "##Benefit of Keyword arguments is that you can give arguments in any order.\n",
    "##n case of a misunderstanding first pass positional arguments,then pass keyword arguments"
   ]
  },
  {
   "cell_type": "markdown",
   "metadata": {},
   "source": [
    "# Argument with list"
   ]
  },
  {
   "cell_type": "code",
   "execution_count": 51,
   "metadata": {},
   "outputs": [
    {
     "name": "stdout",
     "output_type": "stream",
     "text": [
      "\n",
      "   PIAIC Islamabad\n",
      "   id : 1\n",
      "   Name : Aayman\n",
      "   father's Name : Khalid\n",
      "   course :AI\n",
      "   timing : 9 to 12\n",
      "   \n",
      "\n",
      "   PIAIC Islamabad\n",
      "   id : 1\n",
      "   Name : Aayman\n",
      "   father's Name : Khalid\n",
      "   course :AI\n",
      "   timing : 9 to 12\n",
      "   \n"
     ]
    }
   ],
   "source": [
    " def id_card(sid, sname, fname, course, timing):  ##Function to print a student ID card\n",
    "    text = \"\"\"\n",
    "    PIAIC Islamabad\n",
    "    id : {}\n",
    "    Name : {}\n",
    "    father's Name : {}\n",
    "    course :{}\n",
    "    timing : {}\n",
    "    \"\"\".format(sid, sname, fname, course, timing)  ##this is also a string method\n",
    "    return text\n",
    "\n",
    "l1 = [1, \"Aayman\", \"Khalid\", \"AI\", \"9 to 12\"]\n",
    "print(id_card(l1[0], l1[1] ,l1[2], l1[3], l1[4]))\n",
    "print(id_card(*l1))  ##Same job done with no hassle"
   ]
  },
  {
   "cell_type": "code",
   "execution_count": 52,
   "metadata": {},
   "outputs": [
    {
     "name": "stdout",
     "output_type": "stream",
     "text": [
      "\n",
      "   PIAIC Islamabad\n",
      "   id : 1\n",
      "   Name : Aayman\n",
      "   father's Name : Khalid\n",
      "   course :AI\n",
      "   timing : 9 to 12\n",
      "   \n"
     ]
    }
   ],
   "source": [
    "## Let us define a dictionary\n",
    "d1 = {\n",
    "    'course' : \"AI\",\n",
    "     'fname' : \"Khalid\",\n",
    "    'sname'  : \"Aayman\",\n",
    "     \"sid\"  : 1,\n",
    "     'timing' : \"9 to 12\"\n",
    "}\n",
    "\n",
    "print(id_card(**d1))  ## same procedure done with dictionary,This method is done to avoid confusion of adding a lot of arguments"
   ]
  },
  {
   "cell_type": "code",
   "execution_count": 53,
   "metadata": {},
   "outputs": [
    {
     "name": "stdout",
     "output_type": "stream",
     "text": [
      "120\n"
     ]
    }
   ],
   "source": [
    "def fact(n):\n",
    "    if n == 1:\n",
    "        return 1\n",
    "    return n * fact(n-1)\n",
    "\n",
    "print(fact(5))"
   ]
  },
  {
   "cell_type": "markdown",
   "metadata": {},
   "source": [
    "# Generator Function"
   ]
  },
  {
   "cell_type": "code",
   "execution_count": 5,
   "metadata": {},
   "outputs": [
    {
     "name": "stdout",
     "output_type": "stream",
     "text": [
      "<generator object abc at 0x0000023EB89008C8>\n",
      "0\n",
      "1\n",
      "2\n",
      "3\n"
     ]
    }
   ],
   "source": [
    "def abc():\n",
    "   \n",
    "    for i in range(5):\n",
    "        yield i\n",
    "        \n",
    "a = abc()\n",
    "print(a)\n",
    "print(next(a))\n",
    "print(next(a))\n",
    "print(next(a))\n",
    "print(next(a))"
   ]
  },
  {
   "cell_type": "markdown",
   "metadata": {},
   "source": [
    "# lamba function"
   ]
  },
  {
   "cell_type": "code",
   "execution_count": 5,
   "metadata": {},
   "outputs": [
    {
     "name": "stdout",
     "output_type": "stream",
     "text": [
      "13\n"
     ]
    }
   ],
   "source": [
    "def xyz(a, b):return a + b\n",
    "\n",
    "print(xyz(5,8))"
   ]
  },
  {
   "cell_type": "code",
   "execution_count": 8,
   "metadata": {},
   "outputs": [
    {
     "name": "stdout",
     "output_type": "stream",
     "text": [
      "9\n"
     ]
    }
   ],
   "source": [
    "x = lambda y,z :  y if y > z else z\n",
    "print(x(9,5))"
   ]
  },
  {
   "cell_type": "code",
   "execution_count": null,
   "metadata": {},
   "outputs": [],
   "source": []
  }
 ],
 "metadata": {
  "kernelspec": {
   "display_name": "Python 3",
   "language": "python",
   "name": "python3"
  },
  "language_info": {
   "codemirror_mode": {
    "name": "ipython",
    "version": 3
   },
   "file_extension": ".py",
   "mimetype": "text/x-python",
   "name": "python",
   "nbconvert_exporter": "python",
   "pygments_lexer": "ipython3",
   "version": "3.7.4"
  }
 },
 "nbformat": 4,
 "nbformat_minor": 2
}
