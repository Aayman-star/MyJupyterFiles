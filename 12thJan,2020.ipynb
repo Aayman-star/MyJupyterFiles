{
 "cells": [
  {
   "cell_type": "code",
   "execution_count": null,
   "metadata": {},
   "outputs": [],
   "source": [
    "#Encapsulation\n",
    "#Abstraction: there is no concept of abstraction in python\n",
    "#Avstraction is an incomplete class and you cannot make a direct instance of this class\n",
    "#Exception Handling : to prevent the program from crashing and dealing with human errors\n",
    "#File handling: data could be in the form of text file,excel file,html file etc\n",
    "#Open source : Free,Secure and the source code is available\n",
    "#Pandas : library"
   ]
  },
  {
   "cell_type": "code",
   "execution_count": null,
   "metadata": {},
   "outputs": [],
   "source": [
    "#Model and Packege\n",
    "#Packegae: a folder contaning all the files and the files contained within that folder is called module\n",
    "#for example let's say we have a folder named 'abc' and it has 10 python files\n",
    "#Import libraries and packages and work on them\n",
    "#Microsoft exam 98 for python\n",
    "#Automation tasks"
   ]
  },
  {
   "cell_type": "code",
   "execution_count": null,
   "metadata": {},
   "outputs": [],
   "source": [
    "#Encapulation\n",
    "class A():\n",
    "    def __init__(self,name,age):\n",
    "        self.__sname = name\n",
    "        self.__age = age\n",
    "        \n",
    "    def display(self):\n",
    "        print(\"name\" , self.__name)\n",
    "        print(\"Age\", self.__age)\n",
    "    def change(self,a,b):\n",
    "        self.__sname = a\n",
    "        self.__age = b\n",
    "    def __info(self):\n",
    "        print(\"Hello World\")\n",
    "    \n",
    "    def abc(self):\n",
    "        self.__info()\n",
    "        \n",
    "\n",
    "obj1 = A(\"Ali\",25)\n",
    "#print(obj1)\n",
    "#obj1.sname\n",
    "obj1.abc()\n"
   ]
  },
  {
   "cell_type": "markdown",
   "metadata": {},
   "source": [
    "# Abstraction"
   ]
  },
  {
   "cell_type": "code",
   "execution_count": null,
   "metadata": {},
   "outputs": [],
   "source": [
    "class A():  #Abstract Class\n",
    "    def __init(self, a, b):\n",
    "        self.a = a\n",
    "        self.b = b\n",
    "class B(A):\n",
    "    pass"
   ]
  },
  {
   "cell_type": "code",
   "execution_count": null,
   "metadata": {},
   "outputs": [],
   "source": [
    "obj1 = A(2,5)"
   ]
  },
  {
   "cell_type": "code",
   "execution_count": null,
   "metadata": {},
   "outputs": [],
   "source": [
    "obj2 = B(7,9)"
   ]
  },
  {
   "cell_type": "code",
   "execution_count": null,
   "metadata": {},
   "outputs": [],
   "source": [
    "#aBSTRACT CLASS CANNOT create an instance\n",
    "from abc import ABC, abstractmethod  \n",
    "\n",
    "class A(ABC):\n",
    "    @abstractionmethod  \n",
    "    def __init__(self,a, b):\n",
    "        self.a = a\n",
    "        self.b = b\n",
    "    @abstractionmethod\n",
    "    def abc():\n",
    "        pass\n",
    "class B(A):\n",
    "    pass\n",
    "\n",
    "obj1 = A(5,7)"
   ]
  },
  {
   "cell_type": "code",
   "execution_count": null,
   "metadata": {},
   "outputs": [],
   "source": [
    "from abc import ABC, abstractmethod\n",
    "class Human(ABC):  \n",
    "        #The class with parents as ABC will be an abstract class\n",
    "        @abstractmethod\n",
    "        def __init__(self):\n",
    "            self.name = None\n",
    "            self.age = None\n",
    "        def display(self,name,age):\n",
    "            self.name = name\n",
    "            se;f.age = age\n",
    "            return \"Object name is {} {} \"\n",
    "        \n",
    "        "
   ]
  },
  {
   "cell_type": "code",
   "execution_count": null,
   "metadata": {},
   "outputs": [],
   "source": [
    "class Male(Human):\n",
    "    def __init__(self):\n",
    "        self.name = 'Ammar'\n",
    "        self.fname = 'Khalid'\n",
    "        \n",
    "    def laughter(self):\n",
    "        return 'hahahahaha'\n",
    "p1 = Male()"
   ]
  },
  {
   "cell_type": "code",
   "execution_count": null,
   "metadata": {},
   "outputs": [],
   "source": [
    "#Encapsulation\n",
    "#Abstraction =  You cannot make instance of an abstract class\n",
    "#Polymorphism = \n",
    "#Inheritence\n",
    "from abc import ABC, abstractmethod\n",
    "class A(ABC):\n",
    "    def  __init__(self,a,b):\n",
    "        self.a = a\n",
    "        self.b = b\n",
    "    def display(self):\n",
    "        print(self.a)\n",
    "        print(self.b)\n",
    "    \n",
    "    \n",
    "    \n",
    "class B(A):\n",
    "    pass\n",
    "\n",
    "c = B(2,5)\n",
    "c.display()"
   ]
  },
  {
   "cell_type": "code",
   "execution_count": null,
   "metadata": {},
   "outputs": [],
   "source": [
    "class Car:\n",
    "\n",
    "    def __init__(self):\n",
    "        self.__updateSoftware()\n",
    "\n",
    "    def drive(self):\n",
    "        print('driving')\n",
    "\n",
    "    def __updateSoftware(self):\n",
    "        print('updating software')\n",
    "\n",
    "redcar = Car()\n",
    "redcar.drive()"
   ]
  },
  {
   "cell_type": "code",
   "execution_count": null,
   "metadata": {},
   "outputs": [],
   "source": [
    "##Exception handling\n",
    "print(7 / 0)\n"
   ]
  },
  {
   "cell_type": "code",
   "execution_count": null,
   "metadata": {},
   "outputs": [],
   "source": [
    "print(a)"
   ]
  },
  {
   "cell_type": "code",
   "execution_count": null,
   "metadata": {},
   "outputs": [],
   "source": [
    "a = [2,3]\n",
    "print(a[2])"
   ]
  },
  {
   "cell_type": "code",
   "execution_count": null,
   "metadata": {},
   "outputs": [],
   "source": [
    "dictionary = {\"a\" : \"20\",\"b\" : \"25\"}\n",
    "print(dictionary[\"c\"])"
   ]
  },
  {
   "cell_type": "code",
   "execution_count": null,
   "metadata": {},
   "outputs": [],
   "source": [
    "open(\"abc.txt\")"
   ]
  },
  {
   "cell_type": "code",
   "execution_count": null,
   "metadata": {},
   "outputs": [],
   "source": [
    "g = input()\n",
    "print(g/2)"
   ]
  },
  {
   "cell_type": "code",
   "execution_count": null,
   "metadata": {},
   "outputs": [],
   "source": [
    "int('a')"
   ]
  },
  {
   "cell_type": "code",
   "execution_count": null,
   "metadata": {},
   "outputs": [],
   "source": [
    "list(29)"
   ]
  },
  {
   "cell_type": "code",
   "execution_count": null,
   "metadata": {},
   "outputs": [],
   "source": [
    "list('abra cadabra')"
   ]
  },
  {
   "cell_type": "code",
   "execution_count": null,
   "metadata": {},
   "outputs": [],
   "source": [
    "\"\"\"\n",
    "try:  #The line which is likely to bring an error\n",
    "    your code\n",
    "except(err1Class,err2class....):\n",
    "    message show against your errclass\n",
    "else:\n",
    "    message show if exception didnt raise\n",
    "finally:\n",
    "    always run this block\n",
    "\"\"\""
   ]
  },
  {
   "cell_type": "code",
   "execution_count": null,
   "metadata": {},
   "outputs": [],
   "source": [
    "print(\"start.....\")\n",
    "try:\n",
    "    open(\"abc.txt\")\n",
    "except FileNotFoundError:\n",
    "    print(\"You are trying to divide by zero\")\n",
    "\n",
    "print(\"End.....\")"
   ]
  },
  {
   "cell_type": "code",
   "execution_count": null,
   "metadata": {},
   "outputs": [],
   "source": [
    "print(\"start.....\")\n",
    "try:\n",
    "    open(\"abc.txt\")\n",
    "except (FileNotFoundError,IndexError):\n",
    "    print(\"You are trying to divide by zero\")\n",
    "\n",
    "print(\"End.....\")"
   ]
  },
  {
   "cell_type": "code",
   "execution_count": null,
   "metadata": {},
   "outputs": [],
   "source": [
    "print(\"start.....\")\n",
    "try:\n",
    "    open(\"abc.txt\")\n",
    "except FileNotFoundError:\n",
    "    print(\"You are trying to divide by zero\")\n",
    "\n",
    "try:\n",
    "    a = [2,3]\n",
    "    print(a[3])\n",
    "except IndexError:\n",
    "    print(\"Index out of range\")\n",
    "try:\n",
    "    print(6 /0)\n",
    "except ZeroDivisionError:\n",
    "    print(\"Division by Zero\")\n",
    "\n",
    "print(\"End.....\")"
   ]
  },
  {
   "cell_type": "code",
   "execution_count": null,
   "metadata": {},
   "outputs": [],
   "source": [
    "try:\n",
    "    open(\"abc.txt\")\n",
    "    a = [2,3]\n",
    "    print(a[7])\n",
    "    print(6/0)\n",
    "    \n",
    "except Exception as e:\n",
    "    print(\"Sorry\",e)\n",
    "#Dynamic code: handling respective error and generating error specific message"
   ]
  },
  {
   "cell_type": "code",
   "execution_count": null,
   "metadata": {
    "scrolled": true
   },
   "outputs": [],
   "source": [
    "try: \n",
    "    print(7 / 2)\n",
    "except Exception as a:\n",
    "    print(a)\n",
    "else:\n",
    "    print(\"Your Code is running witout any errors\")"
   ]
  },
  {
   "cell_type": "code",
   "execution_count": 8,
   "metadata": {},
   "outputs": [
    {
     "name": "stdout",
     "output_type": "stream",
     "text": [
      "division by zero\n",
      "Finally Will Run definitely\n"
     ]
    }
   ],
   "source": [
    "try: \n",
    "    print(7 / 0)\n",
    "except Exception as a:\n",
    "    print(a)\n",
    "else:\n",
    "    print(\"Your Code is running witout any errors\")\n",
    "finally:\n",
    "    print(\"Finally Will Run definitely\")"
   ]
  },
  {
   "cell_type": "code",
   "execution_count": null,
   "metadata": {},
   "outputs": [],
   "source": [
    "import sys\n",
    "sys.platform"
   ]
  },
  {
   "cell_type": "markdown",
   "metadata": {},
   "source": [
    "# Raise"
   ]
  },
  {
   "cell_type": "code",
   "execution_count": 5,
   "metadata": {},
   "outputs": [
    {
     "data": {
      "text/plain": [
       "20"
      ]
     },
     "execution_count": 5,
     "metadata": {},
     "output_type": "execute_result"
    }
   ],
   "source": [
    "class Student():\n",
    "    def __init__(self,age):\n",
    "        \n",
    "        if (age > 80) :\n",
    "            raise Exception(\"Age range 18 to 80\") \n",
    "        self.age = age\n",
    "        \n",
    "obj1 = Student(20)\n",
    "obj1.age"
   ]
  },
  {
   "cell_type": "code",
   "execution_count": 6,
   "metadata": {},
   "outputs": [
    {
     "ename": "Exception",
     "evalue": "Age range 18 to 80",
     "output_type": "error",
     "traceback": [
      "\u001b[1;31m---------------------------------------------------------------------------\u001b[0m",
      "\u001b[1;31mException\u001b[0m                                 Traceback (most recent call last)",
      "\u001b[1;32m<ipython-input-6-439e12ffa198>\u001b[0m in \u001b[0;36m<module>\u001b[1;34m\u001b[0m\n\u001b[1;32m----> 1\u001b[1;33m \u001b[0mobj1\u001b[0m \u001b[1;33m=\u001b[0m \u001b[0mStudent\u001b[0m\u001b[1;33m(\u001b[0m\u001b[1;36m90\u001b[0m\u001b[1;33m)\u001b[0m\u001b[1;33m\u001b[0m\u001b[1;33m\u001b[0m\u001b[0m\n\u001b[0m\u001b[0;32m      2\u001b[0m \u001b[0mobj1\u001b[0m\u001b[1;33m.\u001b[0m\u001b[0mage\u001b[0m\u001b[1;33m\u001b[0m\u001b[1;33m\u001b[0m\u001b[0m\n",
      "\u001b[1;32m<ipython-input-5-74e8249243cf>\u001b[0m in \u001b[0;36m__init__\u001b[1;34m(self, age)\u001b[0m\n\u001b[0;32m      3\u001b[0m \u001b[1;33m\u001b[0m\u001b[0m\n\u001b[0;32m      4\u001b[0m         \u001b[1;32mif\u001b[0m \u001b[1;33m(\u001b[0m\u001b[0mage\u001b[0m \u001b[1;33m>\u001b[0m \u001b[1;36m80\u001b[0m\u001b[1;33m)\u001b[0m \u001b[1;33m:\u001b[0m\u001b[1;33m\u001b[0m\u001b[1;33m\u001b[0m\u001b[0m\n\u001b[1;32m----> 5\u001b[1;33m             \u001b[1;32mraise\u001b[0m \u001b[0mException\u001b[0m\u001b[1;33m(\u001b[0m\u001b[1;34m\"Age range 18 to 80\"\u001b[0m\u001b[1;33m)\u001b[0m\u001b[1;33m\u001b[0m\u001b[1;33m\u001b[0m\u001b[0m\n\u001b[0m\u001b[0;32m      6\u001b[0m         \u001b[0mself\u001b[0m\u001b[1;33m.\u001b[0m\u001b[0mage\u001b[0m \u001b[1;33m=\u001b[0m \u001b[0mage\u001b[0m\u001b[1;33m\u001b[0m\u001b[1;33m\u001b[0m\u001b[0m\n\u001b[0;32m      7\u001b[0m \u001b[1;33m\u001b[0m\u001b[0m\n",
      "\u001b[1;31mException\u001b[0m: Age range 18 to 80"
     ]
    }
   ],
   "source": [
    "obj1 = Student(90)\n",
    "obj1.age"
   ]
  },
  {
   "cell_type": "markdown",
   "metadata": {},
   "source": [
    "# Assert"
   ]
  },
  {
   "cell_type": "code",
   "execution_count": null,
   "metadata": {},
   "outputs": [],
   "source": []
  },
  {
   "cell_type": "code",
   "execution_count": 4,
   "metadata": {},
   "outputs": [
    {
     "name": "stdout",
     "output_type": "stream",
     "text": [
      "Bad string\n"
     ]
    }
   ],
   "source": [
    "def convert(s):\n",
    "    try:\n",
    "        print(int(s))\n",
    "    except ValueError:\n",
    "        print('Bad string')\n",
    "convert('d')"
   ]
  },
  {
   "cell_type": "code",
   "execution_count": null,
   "metadata": {},
   "outputs": [],
   "source": []
  }
 ],
 "metadata": {
  "kernelspec": {
   "display_name": "Python 3",
   "language": "python",
   "name": "python3"
  },
  "language_info": {
   "codemirror_mode": {
    "name": "ipython",
    "version": 3
   },
   "file_extension": ".py",
   "mimetype": "text/x-python",
   "name": "python",
   "nbconvert_exporter": "python",
   "pygments_lexer": "ipython3",
   "version": "3.7.4"
  }
 },
 "nbformat": 4,
 "nbformat_minor": 2
}
