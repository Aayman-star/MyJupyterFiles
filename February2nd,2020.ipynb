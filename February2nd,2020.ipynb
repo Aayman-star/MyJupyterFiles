{
 "cells": [
  {
   "cell_type": "markdown",
   "metadata": {},
   "source": [
    "# Libraries in python"
   ]
  },
  {
   "cell_type": "code",
   "execution_count": null,
   "metadata": {},
   "outputs": [],
   "source": [
    "##questions from the students\n",
    "#List Comprehensive: writing a number of steps in one line\n",
    "##lambda function :  a function with no name,which was neither used before nor after,This is aslo a one line function\n",
    "##to install a package: pip install\n",
    "##Anconda installs the most commonly used packages in the system,every other package needs to be installed\n",
    "##polymorphism: if an operotor performs more than one function,it is called polymorphism\n",
    "##parent child function: if a function is present in both parent and child class,the fuction present in child class overrides \n",
    "##the function in parent class\n",
    "##self\n",
    "##difference between raise and assert:One raises exception without any reason,One raises exception because of some problem"
   ]
  },
  {
   "cell_type": "markdown",
   "metadata": {},
   "source": [
    "# UpWork work tips"
   ]
  },
  {
   "cell_type": "code",
   "execution_count": null,
   "metadata": {},
   "outputs": [],
   "source": [
    "##Start your work with a decompression zone,This means that give client some space\n",
    "## Avoid hybrid proposals,One size does not fit all\n",
    "##Offer a helpful suggestion right in your cover letter,provide some helpful suggestion in your cover letter\n",
    "##Find common ground(sensitive topic):enhances trust levels,\n",
    "##End your cover letter with a call to action,encourage the client to communicate with you instead of asking him to give you the \n",
    "##project\n",
    "##Don't sell yourself short\n",
    "##Use clients name in the beginning of the letter\n",
    "##Don't be desparate, Don't beg for a project\n",
    "##Be practical and to the point\n",
    "##Play strategically"
   ]
  },
  {
   "cell_type": "markdown",
   "metadata": {},
   "source": [
    "# PyautoGui and selenium"
   ]
  },
  {
   "cell_type": "code",
   "execution_count": null,
   "metadata": {},
   "outputs": [],
   "source": [
    "#Installation Pyautogui\n",
    "# Go to command prompt\n",
    "#type pip install pyautogui,then press enter(Done!)\n",
    "\n",
    "#Second "
   ]
  },
  {
   "cell_type": "code",
   "execution_count": null,
   "metadata": {},
   "outputs": [],
   "source": [
    "import pyautogui as pg"
   ]
  },
  {
   "cell_type": "code",
   "execution_count": null,
   "metadata": {},
   "outputs": [],
   "source": [
    "pg.position()"
   ]
  },
  {
   "cell_type": "code",
   "execution_count": null,
   "metadata": {},
   "outputs": [],
   "source": [
    "pg.moveTo(1165,7,4)##moves to the specified location\n",
    "pg.click() ##clicks on that specofied location"
   ]
  },
  {
   "cell_type": "code",
   "execution_count": null,
   "metadata": {},
   "outputs": [],
   "source": [
    "#pg.click(1165,7)"
   ]
  },
  {
   "cell_type": "code",
   "execution_count": null,
   "metadata": {},
   "outputs": [],
   "source": [
    "pg.position()"
   ]
  },
  {
   "cell_type": "code",
   "execution_count": null,
   "metadata": {},
   "outputs": [],
   "source": [
    "pg.moveTo(1165,7,4)\n",
    "pg.click()\n",
    "pg.moveTo(360,554)"
   ]
  },
  {
   "cell_type": "code",
   "execution_count": null,
   "metadata": {},
   "outputs": [],
   "source": [
    "pg.position()"
   ]
  },
  {
   "cell_type": "code",
   "execution_count": null,
   "metadata": {},
   "outputs": [],
   "source": [
    "pg.position()"
   ]
  },
  {
   "cell_type": "code",
   "execution_count": null,
   "metadata": {},
   "outputs": [],
   "source": [
    "pg.moveTo(1090,35,4)\n",
    "pg.click()\n",
    "pg.moveTo(274,201)\n",
    "pg.write(\"google.com\")"
   ]
  },
  {
   "cell_type": "code",
   "execution_count": null,
   "metadata": {},
   "outputs": [],
   "source": [
    "pg.size()"
   ]
  },
  {
   "cell_type": "code",
   "execution_count": null,
   "metadata": {},
   "outputs": [],
   "source": [
    "pg.position()"
   ]
  },
  {
   "cell_type": "code",
   "execution_count": null,
   "metadata": {},
   "outputs": [],
   "source": [
    "pg.moveTo(1163,22,3)\n",
    "pg.click()"
   ]
  },
  {
   "cell_type": "code",
   "execution_count": null,
   "metadata": {},
   "outputs": [],
   "source": [
    "name = pg.prompt(text = \"Please enter your name\",title = \"Hello\")\n",
    "print(\"Hello\",name)\n",
    "pg.alert(text=name, title='', button='OK')"
   ]
  },
  {
   "cell_type": "markdown",
   "metadata": {},
   "source": [
    "# Webscraping in Python"
   ]
  },
  {
   "cell_type": "code",
   "execution_count": null,
   "metadata": {},
   "outputs": [],
   "source": [
    "#WEbscraping is important because as data scientists we need data to process\n",
    "##WEb uses HTTP protocol,which works on requests and response"
   ]
  },
  {
   "cell_type": "code",
   "execution_count": null,
   "metadata": {},
   "outputs": [],
   "source": [
    "from bs4 import BeautifulSoup\n",
    "import requests\n",
    "url = \"https://www.crummy.com/software/BeautifulSoup\"\n",
    "r = requests.get(url)\n",
    "html_doc = r.text\n",
    "soup = BeautifulSoup(html_doc)\n",
    "#print(soup.prettify())\n",
    "print(soup.title)\n",
    "print(type(soup.title))\n",
    "soup.title.string\n"
   ]
  },
  {
   "cell_type": "code",
   "execution_count": null,
   "metadata": {},
   "outputs": [],
   "source": [
    "import pyautogui as pg\n",
    "pg.position()"
   ]
  },
  {
   "cell_type": "code",
   "execution_count": null,
   "metadata": {},
   "outputs": [],
   "source": [
    "pg.moveTo(1162,18,3)\n",
    "pg.click()\n",
    "pg.moveTo(380,456)\n",
    "pg.write(\"https://www.crummy.com/software/BeautifulSoup\")\n",
    "pg.click()"
   ]
  },
  {
   "cell_type": "code",
   "execution_count": null,
   "metadata": {},
   "outputs": [],
   "source": [
    "https://www.crummy.com/software/BeautifulSoup"
   ]
  },
  {
   "cell_type": "code",
   "execution_count": null,
   "metadata": {},
   "outputs": [],
   "source": [
    "class fruits:\n",
    "    def __init__(self):\n",
    "        self.price = 100\n",
    "        self.__bags = 5\n",
    "    def display(self):\n",
    "        return self.__bags\n",
    "obj=fruits()\n",
    "obj.display()"
   ]
  },
  {
   "cell_type": "code",
   "execution_count": null,
   "metadata": {},
   "outputs": [],
   "source": [
    " class student:\n",
    "    def __init__(self):\n",
    "        self.marks = 97\n",
    "        self.__cgpa = 8.7\n",
    "    def display(self):\n",
    "        print(self.marks)\n",
    "obj=student()\n",
    "print(obj._student__cgpa)"
   ]
  },
  {
   "cell_type": "code",
   "execution_count": null,
   "metadata": {},
   "outputs": [],
   "source": [
    "class objects:\n",
    "    def __init__(self):\n",
    "        self.colour = None\n",
    "        self._shape = \"Circle\" \n",
    " \n",
    "    def display(self, s):\n",
    "        self._shape = s\n",
    "obj=objects()\n",
    "#print(obj._object._shape)\n",
    "print(obj._shape)"
   ]
  },
  {
   "cell_type": "code",
   "execution_count": null,
   "metadata": {},
   "outputs": [],
   "source": [
    "class MyClass():\n",
    "    def __init__(self):\n",
    "        self.x = 1\n",
    "        self._y = 2\n",
    "        self.__z =3\n",
    "        \n",
    "c = MyClass()\n",
    "print(c.x)\n",
    "print(c._y)\n",
    "print(c.__z)"
   ]
  },
  {
   "cell_type": "code",
   "execution_count": null,
   "metadata": {},
   "outputs": [],
   "source": [
    "a = input('>')\n",
    "try:\n",
    "    print(int(a) + 1)\n",
    "except:\n",
    "    print('you have entered a string')\n",
    "#else:\n",
    "    #print('You entered the right value!')\n",
    "finally:\n",
    "    print('This program is written to display the functionality of try except block')\n",
    "#else executes if the exception block does not execute,that is if the exception does not occur"
   ]
  },
  {
   "cell_type": "code",
   "execution_count": null,
   "metadata": {},
   "outputs": [],
   "source": [
    "def foo():\n",
    "    try:\n",
    "        return 1\n",
    "    finally:\n",
    "        return 2\n",
    "   \n",
    "\n",
    "    \n",
    "k = foo()\n",
    "print(k)"
   ]
  },
  {
   "cell_type": "code",
   "execution_count": null,
   "metadata": {},
   "outputs": [],
   "source": [
    "try:\n",
    "    if '1' != 1:\n",
    "        raise \"someError\"\n",
    "    else:\n",
    "        print(\"someError has not occurred\")\n",
    "except Exception as e:\n",
    "    print (\"someError has occurred\")"
   ]
  },
  {
   "cell_type": "code",
   "execution_count": null,
   "metadata": {},
   "outputs": [],
   "source": [
    "x=1\n",
    "y=8\n",
    "assert x>y, 'X too small'"
   ]
  },
  {
   "cell_type": "code",
   "execution_count": null,
   "metadata": {},
   "outputs": [],
   "source": [
    "#generator\n",
    "def f(x):\n",
    "    yield x+1\n",
    "g=f(8)\n",
    "print(next(g))"
   ]
  },
  {
   "cell_type": "code",
   "execution_count": null,
   "metadata": {},
   "outputs": [],
   "source": [
    "for i in range(5):\n",
    "    print(next(f(i)))"
   ]
  },
  {
   "cell_type": "code",
   "execution_count": null,
   "metadata": {},
   "outputs": [],
   "source": [
    "def f(x):\n",
    "    yield x+1\n",
    "    print(\"test\")\n",
    "    yield x+2\n",
    "g=f(9)\n",
    "print(next(g))"
   ]
  },
  {
   "cell_type": "code",
   "execution_count": null,
   "metadata": {},
   "outputs": [],
   "source": [
    "def a():\n",
    "    try:\n",
    "        f(x, 4)\n",
    "    except:\n",
    "        print('What is this?')\n",
    "    finally:\n",
    "        print('after f')\n",
    "    print('after f?')\n",
    "a()"
   ]
  },
  {
   "cell_type": "code",
   "execution_count": null,
   "metadata": {},
   "outputs": [],
   "source": [
    "def f(x):\n",
    "    for i in range(5):\n",
    "        yield i\n",
    "g=f(8)\n",
    "print(list(g))"
   ]
  },
  {
   "cell_type": "code",
   "execution_count": null,
   "metadata": {},
   "outputs": [],
   "source": [
    "g =(i for i in range(5))\n",
    "type(g)"
   ]
  },
  {
   "cell_type": "code",
   "execution_count": null,
   "metadata": {},
   "outputs": [],
   "source": [
    "while True:\n",
    "    try:\n",
    "        d = input('>')\n",
    "        print(int(d)+1)\n",
    "    except:\n",
    "        print('you have entered a string value')\n",
    "    finally:\n",
    "        Q = input('press q to quit : ')\n",
    "        if Q == 'q':\n",
    "            break"
   ]
  },
  {
   "cell_type": "code",
   "execution_count": null,
   "metadata": {},
   "outputs": [],
   "source": []
  },
  {
   "cell_type": "code",
   "execution_count": null,
   "metadata": {},
   "outputs": [],
   "source": []
  }
 ],
 "metadata": {
  "kernelspec": {
   "display_name": "Python 3",
   "language": "python",
   "name": "python3"
  },
  "language_info": {
   "codemirror_mode": {
    "name": "ipython",
    "version": 3
   },
   "file_extension": ".py",
   "mimetype": "text/x-python",
   "name": "python",
   "nbconvert_exporter": "python",
   "pygments_lexer": "ipython3",
   "version": "3.7.4"
  }
 },
 "nbformat": 4,
 "nbformat_minor": 2
}
