{
 "cells": [
  {
   "cell_type": "code",
   "execution_count": null,
   "metadata": {},
   "outputs": [],
   "source": [
    "class Person():\n",
    "    def __init__(self,initialAge):\n",
    "        self.age = initialAge\n",
    "        if self.age <= 0:\n",
    "            print(\"Age is not valid\")\n",
    "            self.age = 0\n",
    "        \n",
    "    def yearPasses(self):\n",
    "        self.age += 1\n",
    "    def amIOld(self):\n",
    "        if self.age < 13:\n",
    "            print(\"You are young\")\n",
    "        if 13 <= self.age <= 18:\n",
    "            print(\"You are a teeanger\")\n",
    "        if self.age > 18:\n",
    "            print(\"You are old\")\n",
    "        \n",
    "Person1 = Person(-1)\n",
    "Person1.amIOld()\n",
    "Person1.yearPasses()\n",
    "Person1.amIOld()"
   ]
  },
  {
   "cell_type": "code",
   "execution_count": null,
   "metadata": {},
   "outputs": [],
   "source": [
    "n = 2\n",
    "i= 1\n",
    "#while i <= 10: \n",
    "    #print(n * i)\n",
    "    #i += 1\n",
    "\n",
    "for j in range(1,11):\n",
    "    print(n,\"x\",j,\"=\",n * j)"
   ]
  },
  {
   "cell_type": "code",
   "execution_count": null,
   "metadata": {},
   "outputs": [],
   "source": [
    "#Project Euler\n",
    "\n",
    "#a, b = 1415926535, 8979323846\n",
    "def fibo_Euler(a,b,n):\n",
    "    #n = 35\n",
    "    c = \"\"\n",
    "    List = []\n",
    "    while len(c) <= n:\n",
    "        c = str(a) + str(b)\n",
    "        #List.append(c)\n",
    "        a = b\n",
    "        b = c\n",
    "    print(c[n-1])\n",
    "\n",
    "    #print(List)\n",
    "    #print((List[-1])[n-1])\n",
    "   \n",
    "a = [1415926535897932384626433832795028841971693993751058209749445923078164062862089986280348253421170679,8214808651328230664709384460955058223172535940812848111745028410270193852110555964462294895493038196,104683731294243150]\n",
    "#print(a)\n",
    "fibo_Euler(*a)"
   ]
  },
  {
   "cell_type": "code",
   "execution_count": null,
   "metadata": {},
   "outputs": [],
   "source": [
    "List = [[]]\n",
    "for i in range(0,2):\n",
    "    x = input(\"Enter three numbers separated by spaces\")\n",
    "    List[i] = x.split(\" \")\n",
    "\n",
    "print(List)"
   ]
  },
  {
   "cell_type": "code",
   "execution_count": null,
   "metadata": {},
   "outputs": [],
   "source": [
    "List = [[],[]]\n",
    "x = \"1 2 3\"\n",
    "List[0] = x.split(\" \")\n",
    "List[1]=  x.split(\" \")\n",
    "\n",
    "print(List)"
   ]
  },
  {
   "cell_type": "code",
   "execution_count": null,
   "metadata": {},
   "outputs": [],
   "source": [
    "n = 3\n",
    "m = 4\n",
    "a = [0] * n\n",
    "for i in range(n):\n",
    "    a[i] = [0] * m\n",
    "\n",
    "print(a)"
   ]
  },
  {
   "cell_type": "code",
   "execution_count": null,
   "metadata": {},
   "outputs": [],
   "source": [
    "n = 3\n",
    "m = 4\n",
    "a = []\n",
    "for i in range(n):\n",
    "    a.append([1] * m)\n",
    "\n",
    "print(a)"
   ]
  },
  {
   "cell_type": "code",
   "execution_count": null,
   "metadata": {},
   "outputs": [],
   "source": [
    "x = [[None for _ in range(3)] for _ in range(3)]\n",
    "print(x[2])"
   ]
  },
  {
   "cell_type": "code",
   "execution_count": null,
   "metadata": {},
   "outputs": [],
   "source": [
    "#This is the function for the fibonacci series\n",
    "def fibo_Euler(a,b,n):\n",
    "    #n = 35\n",
    "    c = \"\"\n",
    "    List = []\n",
    "    while len(c) <= n:\n",
    "        c = str(a) + str(b)\n",
    "        List.append(c)\n",
    "        a = b\n",
    "        b = c\n",
    "\n",
    "    print(List)\n",
    "    print((List[-1])[n-1])\n",
    "\n",
    "#This code takes the number of triplets and generates a 2d list\n",
    "#Asking for the number of triplets\n",
    "x = input(\"Enter the number of rows :\")\n",
    "x = int(x)\n",
    "#Generating a 2d list of that size\n",
    "a = [[None for _ in range(3)] for _ in range(x)]\n",
    "for i in range(x):\n",
    "    a[i] = input(\"Enter values :\")\n",
    "    #converting the string into separate values\n",
    "    a[i] = a[i].split(\" \")\n",
    "\n",
    "for j in a:\n",
    "    print(j)\n",
    "    #This is where each individual triplet is converted into three individual numbers\n",
    "    z =[]\n",
    "    for y in j:\n",
    "        z.append(int(y))\n",
    "    print(z)   \n",
    "    #print(type(j))\n",
    "    fibo_Euler(*z)\n",
    "\n",
    "    \n",
    "\n",
    "#print(a)\n",
    "#print(a[0])"
   ]
  },
  {
   "cell_type": "code",
   "execution_count": null,
   "metadata": {},
   "outputs": [],
   "source": [
    "a = ['1415926535', '8979323846', '35']\n",
    "b =[]\n",
    "for j in a:\n",
    "    b.append(int(j))\n",
    "print(b)\n",
    "c= \"1415926535 8979323846 35\"\n",
    "d = (c.split(\" \"))\n",
    "print(d)"
   ]
  },
  {
   "cell_type": "code",
   "execution_count": null,
   "metadata": {},
   "outputs": [],
   "source": [
    "f = int(input(\"Enter a number:\"))"
   ]
  },
  {
   "cell_type": "code",
   "execution_count": null,
   "metadata": {},
   "outputs": [],
   "source": [
    "n = input(\"Enter a limit:\")\n",
    "a = 1 \n",
    "b = 1\n",
    "for i in range(int(n)):\n",
    "    c = a + b \n",
    "    a = b\n",
    "    b = c\n",
    "    print(c)"
   ]
  },
  {
   "cell_type": "code",
   "execution_count": null,
   "metadata": {},
   "outputs": [],
   "source": [
    "n = int(input(\"Enter a limit\"))\n",
    "a = \"1415926535\" \n",
    "b = \"8979323846\"\n",
    "\n",
    "for i in range(n):\n",
    "    a = a + b\n",
    "    print(a)\n",
    "    b = b + a\n",
    "    print(b)"
   ]
  },
  {
   "cell_type": "code",
   "execution_count": 1,
   "metadata": {},
   "outputs": [],
   "source": [
    "def validBraces(string):\n",
    "    test_strings = [\"()\",\"[]\",\"{}\",\"[()]\",\"[{}]\",\"[{()}]\",\"[({})]\",\"([])\",\"({})\",\"([{}])\",\"({[]})\",\"{[]}\",\"{()}\",\"{([])}\",\"{[()]}\",\n",
    "                    \"[](){}\",\"[]{}()\",\"()[]{}\",\"(){}[]\",\"{}[]()\",\"{}()[]\"]\n",
    "    for i in test_strings:\n",
    "         return string == i\n",
    "    \n",
    "print(validBraces(\"()\"))"
   ]
  },
  {
   "cell_type": "code",
   "execution_count": 2,
   "metadata": {},
   "outputs": [],
   "source": [
    "a = 4\n",
    "b = 4\n",
    "print(a == b)"
   ]
  },
  {
   "cell_type": "code",
   "execution_count": null,
   "metadata": {},
   "outputs": [],
   "source": []
  }
 ],
 "metadata": {
  "kernelspec": {
   "display_name": "Python 3",
   "language": "python",
   "name": "python3"
  },
  "language_info": {
   "codemirror_mode": {
    "name": "ipython",
    "version": 3
   },
   "file_extension": ".py",
   "mimetype": "text/x-python",
   "name": "python",
   "nbconvert_exporter": "python",
   "pygments_lexer": "ipython3",
   "version": "3.7.4"
  }
 },
 "nbformat": 4,
 "nbformat_minor": 2
}
