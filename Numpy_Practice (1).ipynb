{
 "cells": [
  {
   "cell_type": "code",
   "execution_count": 1,
   "metadata": {},
   "outputs": [
    {
     "data": {
      "text/plain": [
       "'1.18.2'"
      ]
     },
     "execution_count": 1,
     "metadata": {},
     "output_type": "execute_result"
    }
   ],
   "source": [
    "#Exercise 1 \n",
    "import numpy as np\n",
    "np.__version__"
   ]
  },
  {
   "cell_type": "code",
   "execution_count": 2,
   "metadata": {},
   "outputs": [
    {
     "data": {
      "text/plain": [
       "array([0, 1, 2, 3, 4, 5, 6, 7, 8, 9])"
      ]
     },
     "execution_count": 2,
     "metadata": {},
     "output_type": "execute_result"
    }
   ],
   "source": [
    "#Exercise 2\n",
    "np.arange(10)"
   ]
  },
  {
   "cell_type": "code",
   "execution_count": 8,
   "metadata": {},
   "outputs": [
    {
     "data": {
      "text/plain": [
       "array([[ True,  True,  True],\n",
       "       [ True,  True,  True],\n",
       "       [ True,  True,  True]])"
      ]
     },
     "execution_count": 8,
     "metadata": {},
     "output_type": "execute_result"
    }
   ],
   "source": [
    "#Exercise 3\n",
    "np.ones((3,3),dtype='bool')\n",
    "#Alternative method\n",
    "np.full((3,3),True,dtype='bool')"
   ]
  },
  {
   "cell_type": "code",
   "execution_count": 9,
   "metadata": {},
   "outputs": [
    {
     "data": {
      "text/plain": [
       "array([1, 3, 5, 7, 9])"
      ]
     },
     "execution_count": 9,
     "metadata": {},
     "output_type": "execute_result"
    }
   ],
   "source": [
    "#Exercise 4 : Extraction of odd numbers\n",
    "arr = np.array([0, 1, 2, 3, 4, 5, 6, 7, 8, 9])\n",
    "arr[arr%2 != 0]"
   ]
  },
  {
   "cell_type": "code",
   "execution_count": 14,
   "metadata": {},
   "outputs": [
    {
     "data": {
      "text/plain": [
       "array([ 0, -1,  2, -1,  4, -1,  6, -1,  8, -1])"
      ]
     },
     "execution_count": 14,
     "metadata": {},
     "output_type": "execute_result"
    }
   ],
   "source": [
    "#Exercise 5: Replacing values with another value\n",
    "arr = np.array([0, 1, 2, 3, 4, 5, 6, 7, 8, 9])\n",
    "arr[arr % 2 != 0] = -1\n",
    "arr"
   ]
  },
  {
   "cell_type": "code",
   "execution_count": 27,
   "metadata": {},
   "outputs": [
    {
     "name": "stdout",
     "output_type": "stream",
     "text": [
      "[0 1 2 3 4 5 6 7 8 9]\n",
      "\n",
      "[ 0 -1  2 -1  4 -1  6 -1  8 -1]\n"
     ]
    },
    {
     "data": {
      "text/plain": [
       "array([ 0, -1,  2, -1,  4, -1,  6, -1,  8, -1])"
      ]
     },
     "execution_count": 27,
     "metadata": {},
     "output_type": "execute_result"
    }
   ],
   "source": [
    "#Exerxise 6 : Replacement without modification\n",
    "arr = np.array([0, 1, 2, 3, 4, 5, 6, 7, 8, 9])\n",
    "arr1 =arr.copy()\n",
    "arr1[arr1 % 2 != 0] = -1\n",
    "print(arr,arr1,sep='\\n\\n')\n",
    "#Alternative\n",
    "out = np.where(arr%2!=0,-1,arr)\n",
    "out"
   ]
  },
  {
   "cell_type": "code",
   "execution_count": 33,
   "metadata": {},
   "outputs": [
    {
     "data": {
      "text/plain": [
       "array([[0, 1, 2, 3, 4],\n",
       "       [5, 6, 7, 8, 9]])"
      ]
     },
     "execution_count": 33,
     "metadata": {},
     "output_type": "execute_result"
    }
   ],
   "source": [
    "#Exercise 7 :Reshaping an array\n",
    "arr = np.arange(10).reshape(2,5) #.reshape(2,-1) -1 lets numpy decides the number of columns automatically\n",
    "#This works for both rows and columns\n",
    "arr"
   ]
  },
  {
   "cell_type": "code",
   "execution_count": 42,
   "metadata": {},
   "outputs": [
    {
     "data": {
      "text/plain": [
       "array([[0, 1, 2, 3, 4],\n",
       "       [5, 6, 7, 8, 9],\n",
       "       [1, 1, 1, 1, 1],\n",
       "       [1, 1, 1, 1, 1]])"
      ]
     },
     "execution_count": 42,
     "metadata": {},
     "output_type": "execute_result"
    }
   ],
   "source": [
    "#Exercise 8 : Vertical Stacking\n",
    "a = np.arange(10).reshape(2,-1)\n",
    "a\n",
    "b = np.repeat(1,10).reshape(2,-1)\n",
    "b\n",
    "np.vstack((a,b))  # Method 1\n",
    "np.concatenate((a,b),axis = 0) #Method 2\n",
    "np.r_[a,b] ###########Method 3\n"
   ]
  },
  {
   "cell_type": "code",
   "execution_count": 46,
   "metadata": {},
   "outputs": [
    {
     "data": {
      "text/plain": [
       "array([[0, 1, 2, 3, 4, 1, 1, 1, 1, 1],\n",
       "       [5, 6, 7, 8, 9, 1, 1, 1, 1, 1]])"
      ]
     },
     "execution_count": 46,
     "metadata": {},
     "output_type": "execute_result"
    }
   ],
   "source": [
    "#Exercise 9 : Horizontal Stacking\n",
    "a = np.arange(10).reshape(2,-1)\n",
    "b = np.repeat(1,10).reshape(2,-1)\n",
    "np.hstack((a,b))  #Method 1\n",
    "np.concatenate((a,b),axis = 1) #Method 2\n",
    "np.c_[a,b]   ##################Method 3"
   ]
  },
  {
   "cell_type": "code",
   "execution_count": 77,
   "metadata": {},
   "outputs": [
    {
     "data": {
      "text/plain": [
       "array([1, 1, 1, 2, 2, 2, 3, 3, 3, 1, 2, 3, 1, 2, 3, 1, 2, 3])"
      ]
     },
     "execution_count": 77,
     "metadata": {},
     "output_type": "execute_result"
    }
   ],
   "source": [
    "#Exercise 10 : Creating custom sequences without hardcoding\n",
    "a = np.array([1,2,3]*3) \n",
    "arr = np.repeat(a[0:3],3)\n",
    "arr\n",
    "np.hstack((arr,a))\n",
    "#np.hstack((np.repeat(a[0:],3),np.repeat(a,3)))"
   ]
  },
  {
   "cell_type": "code",
   "execution_count": 81,
   "metadata": {},
   "outputs": [
    {
     "data": {
      "text/plain": [
       "array([1, 1, 1, 2, 2, 2, 3, 3, 3, 1, 2, 3, 1, 2, 3, 1, 2, 3])"
      ]
     },
     "execution_count": 81,
     "metadata": {},
     "output_type": "execute_result"
    }
   ],
   "source": [
    "#Saner solution to exercise 10\n",
    "a = np.array([1,2,3])\n",
    "a\n",
    "np.tile(a,3)\n",
    "np.repeat(a,3)\n",
    "np.r_[np.repeat(a,3),np.tile(a,3)]"
   ]
  },
  {
   "cell_type": "code",
   "execution_count": 83,
   "metadata": {},
   "outputs": [
    {
     "data": {
      "text/plain": [
       "array([2, 4])"
      ]
     },
     "execution_count": 83,
     "metadata": {},
     "output_type": "execute_result"
    }
   ],
   "source": [
    "#Exercise 11 : Finding common elements between two arrays\n",
    "a = np.array([1,2,3,2,3,4,3,4,5,6])\n",
    "b = np.array([7,2,10,2,7,4,9,4,9,8])\n",
    "np.intersect1d(a,b)"
   ]
  },
  {
   "cell_type": "code",
   "execution_count": 94,
   "metadata": {},
   "outputs": [
    {
     "data": {
      "text/plain": [
       "array([1, 2, 3, 4])"
      ]
     },
     "execution_count": 94,
     "metadata": {},
     "output_type": "execute_result"
    }
   ],
   "source": [
    "#Exercise 12: removing common items from one array\n",
    "a = np.array([1,2,3,4,5])\n",
    "b = np.array([5,6,7,8,9])\n",
    "#c = np.intersect1d(a,b)\n",
    "#np.delete(a,np.where(a==c))\n",
    "#----------------Easier Way------------------ \n",
    "np.setdiff1d(a,b)"
   ]
  },
  {
   "cell_type": "code",
   "execution_count": 98,
   "metadata": {},
   "outputs": [
    {
     "data": {
      "text/plain": [
       "(array([1, 3, 5, 7], dtype=int64),)"
      ]
     },
     "execution_count": 98,
     "metadata": {},
     "output_type": "execute_result"
    }
   ],
   "source": [
    "#Exercise 13 : Finding the index of matching elements in numpy\n",
    "a = np.array([1,2,3,2,3,4,3,4,5,6])\n",
    "b = np.array([7,2,10,2,7,4,9,4,9,8])\n",
    "result = np.where(a == b)\n",
    "result"
   ]
  },
  {
   "cell_type": "code",
   "execution_count": 112,
   "metadata": {},
   "outputs": [
    {
     "data": {
      "text/plain": [
       "array([ 6,  9, 10])"
      ]
     },
     "execution_count": 112,
     "metadata": {},
     "output_type": "execute_result"
    }
   ],
   "source": [
    "#Exerxise 14: Extracting the numbers from a specific range from an array\n",
    "a = np.array([2, 6, 1, 9, 10, 3, 27])\n",
    "#------------Method 1------------------\n",
    "index = np.where((a >= 5) & (a <= 10))\n",
    "a[index]\n",
    "\n",
    "#------------Method 2-----------------\n",
    "index = np.where(np.logical_and(a>=5, a<=10))\n",
    "a[index]\n",
    "\n",
    "#-------------Method 3-----------------\n",
    "a[(a>=5) & (a<=10)]"
   ]
  },
  {
   "cell_type": "code",
   "execution_count": 133,
   "metadata": {},
   "outputs": [
    {
     "data": {
      "text/plain": [
       "array([6., 7., 9., 8., 9., 7., 5.])"
      ]
     },
     "execution_count": 133,
     "metadata": {},
     "output_type": "execute_result"
    }
   ],
   "source": [
    "#Exercise 15 :  Python functions\n",
    "\n",
    "def maxx(x,y):\n",
    "    if x >= y:\n",
    "        return x\n",
    "    else:\n",
    "        return y\n",
    "    \n",
    "'''\n",
    "def pair_maxx(a,b):\n",
    "    for i in range(len(a)):\n",
    "        if a[i] > b[i]:\n",
    "             print(a[i])\n",
    "        else:\n",
    "            print(b[i])\n",
    "pair_maxx(a,b)\n",
    "\n",
    "'''\n",
    "pair_max = np.vectorize(maxx, otypes=[float])\n",
    "a = np.array([5, 7, 9, 8, 6, 4, 5])\n",
    "b = np.array([6, 3, 4, 8, 9, 7, 1])\n",
    "pair_max(a,b)\n",
    "#-------------Sequence------------\n",
    "#1.Function to be used\n",
    "#2.Vectorisation of the function\n",
    "#3.The arrays you need to apply the function on\n",
    "#4.Application of the function on the arrays"
   ]
  },
  {
   "cell_type": "code",
   "execution_count": 137,
   "metadata": {},
   "outputs": [
    {
     "name": "stdout",
     "output_type": "stream",
     "text": [
      "[[0 1 2]\n",
      " [3 4 5]\n",
      " [6 7 8]]\n",
      "\n",
      "[[1 0 2]\n",
      " [4 3 5]\n",
      " [7 6 8]]\n"
     ]
    }
   ],
   "source": [
    "#Exercise 16 : swapping columns\n",
    "arr = np.arange(9).reshape(3,3)\n",
    "print(arr)\n",
    "arr[:,[0,1]] = arr[:,[1,0]]\n",
    "print()\n",
    "print(arr)"
   ]
  },
  {
   "cell_type": "code",
   "execution_count": 138,
   "metadata": {},
   "outputs": [
    {
     "name": "stdout",
     "output_type": "stream",
     "text": [
      "[[0 1 2]\n",
      " [3 4 5]\n",
      " [6 7 8]]\n",
      "\n",
      "[[3 4 5]\n",
      " [0 1 2]\n",
      " [6 7 8]]\n"
     ]
    }
   ],
   "source": [
    "#Exercise 17 : swapping rows\n",
    "arr = np.arange(9).reshape(3,3)\n",
    "print(arr)\n",
    "arr[[0,1],:] = arr[[1,0],:]\n",
    "print()\n",
    "print(arr)"
   ]
  },
  {
   "cell_type": "code",
   "execution_count": 146,
   "metadata": {},
   "outputs": [
    {
     "name": "stdout",
     "output_type": "stream",
     "text": [
      "[[2 1 0]\n",
      " [5 4 3]\n",
      " [8 7 6]]\n",
      "\n",
      "[[6 7 8]\n",
      " [3 4 5]\n",
      " [0 1 2]]\n",
      "\n",
      "[[0 1 2]\n",
      " [3 4 5]\n",
      " [6 7 8]]\n"
     ]
    }
   ],
   "source": [
    "#Exercise 18: Revesring the rows of a 2D array\n",
    "arr = np.arange(9).reshape(3,3)\n",
    "print(np.fliplr(arr)) #Flips the content of each row\n",
    "print()\n",
    "print(np.flipud(arr))  #Flips the rows of an nd matrix\n",
    "print()\n",
    "print(arr)\n"
   ]
  },
  {
   "cell_type": "code",
   "execution_count": 154,
   "metadata": {},
   "outputs": [
    {
     "name": "stdout",
     "output_type": "stream",
     "text": [
      "[[ 1  2  3]\n",
      " [ 4  5  6]\n",
      " [ 7  8  9]\n",
      " [10 11 12]\n",
      " [13 14 15]]\n",
      "\n",
      "[[13 14 15]\n",
      " [10 11 12]\n",
      " [ 7  8  9]\n",
      " [ 4  5  6]\n",
      " [ 1  2  3]]\n",
      "\n",
      "[[ 3  2  1]\n",
      " [ 6  5  4]\n",
      " [ 9  8  7]\n",
      " [12 11 10]\n",
      " [15 14 13]]\n"
     ]
    }
   ],
   "source": [
    "#Continuation of Exercise 18\n",
    "a = np.arange(1,16).reshape(5,-1)\n",
    "print(a)\n",
    "print()\n",
    "print(a[::-1,:])  #Row reversal\n",
    "print()\n",
    "print(a[:,::-1])  #Column reversal"
   ]
  },
  {
   "cell_type": "code",
   "execution_count": 150,
   "metadata": {},
   "outputs": [
    {
     "name": "stdout",
     "output_type": "stream",
     "text": [
      "[[0 1 2]\n",
      " [3 4 5]\n",
      " [6 7 8]]\n",
      "\n",
      "[[2 1 0]\n",
      " [5 4 3]\n",
      " [8 7 6]]\n"
     ]
    }
   ],
   "source": [
    "#Exercise 19 : Reversing the columns of a 2D array\n",
    "arr = np.arange(9).reshape(3,3)\n",
    "print(arr)\n",
    "print()\n",
    "print(np.fliplr(arr)) #Column flip"
   ]
  },
  {
   "cell_type": "code",
   "execution_count": 184,
   "metadata": {},
   "outputs": [
    {
     "name": "stdout",
     "output_type": "stream",
     "text": [
      "[[6.92470486 6.26781811 9.52348328]\n",
      " [8.69735596 7.73267148 7.50239305]\n",
      " [6.28138018 7.0530907  6.24765448]\n",
      " [6.40565221 7.32740865 6.42642824]\n",
      " [5.90120125 6.67493372 8.58977926]]\n",
      "\n",
      "[[9.86179574 5.23138235 9.71297041]\n",
      " [6.50301218 9.53904387 7.93367098]\n",
      " [5.44505763 6.64807109 7.5542665 ]\n",
      " [9.51268464 9.30741284 5.26356101]\n",
      " [5.24084079 5.47048989 9.34027619]]\n"
     ]
    }
   ],
   "source": [
    "#Exercise 20 : Creating a 2D array of random floats between 5 & 10\n",
    "import random\n",
    "sampl = np.random.uniform(low=5.0, high=10.0, size=(5,3)) #Function to generate random float values within a specific range\n",
    "print(sampl)\n",
    "#------------------------Second Solution----------------\n",
    "rand_arr = np.random.randint(low=5, high=10, size=(5,3)) + np.random.random((5,3))\n",
    "#I think they are first generating random integers and then adding float values between 0 & 1\n",
    "print()\n",
    "print(rand_arr)"
   ]
  },
  {
   "cell_type": "code",
   "execution_count": 187,
   "metadata": {},
   "outputs": [
    {
     "name": "stdout",
     "output_type": "stream",
     "text": [
      "[[0.85  0.149 0.374]\n",
      " [0.76  0.486 0.564]\n",
      " [0.18  0.221 0.342]\n",
      " [0.678 0.176 0.859]\n",
      " [0.86  0.882 0.933]]\n"
     ]
    }
   ],
   "source": [
    "#Exercise 21: printing floats upto 3 decimal points\n",
    "rand_arr = np.random.random((5,3))\n",
    "np.set_printoptions(precision=3)\n",
    "print(rand_arr)"
   ]
  },
  {
   "cell_type": "code",
   "execution_count": 191,
   "metadata": {},
   "outputs": [
    {
     "data": {
      "text/plain": [
       "array([[0.   , 0.   , 0.001],\n",
       "       [0.   , 0.001, 0.001],\n",
       "       [0.   , 0.001, 0.   ]])"
      ]
     },
     "execution_count": 191,
     "metadata": {},
     "output_type": "execute_result"
    }
   ],
   "source": [
    "#Exercise 22: Supressing the exponents\n",
    "rand_arr = np.random.random([3,3])/1e3\n",
    "rand_arr"
   ]
  },
  {
   "cell_type": "code",
   "execution_count": 193,
   "metadata": {},
   "outputs": [
    {
     "data": {
      "text/plain": [
       "array([[b'5.1', b'3.5', b'1.4', b'0.2', b'Iris-setosa'],\n",
       "       [b'4.9', b'3.0', b'1.4', b'0.2', b'Iris-setosa'],\n",
       "       [b'4.7', b'3.2', b'1.3', b'0.2', b'Iris-setosa']], dtype=object)"
      ]
     },
     "execution_count": 193,
     "metadata": {},
     "output_type": "execute_result"
    }
   ],
   "source": [
    "#Exercise 25 : Importing numbers and data in numpy \n",
    "url = 'https://archive.ics.uci.edu/ml/machine-learning-databases/iris/iris.data'\n",
    "iris = np.genfromtxt(url, delimiter=',', dtype='object')\n",
    "names = ('sepallength', 'sepalwidth', 'petallength', 'petalwidth', 'species')\n",
    "iris[:3]"
   ]
  },
  {
   "cell_type": "code",
   "execution_count": 195,
   "metadata": {},
   "outputs": [
    {
     "data": {
      "text/plain": [
       "array([[ 3,  2,  7,  4, 10,  3,  9,  9,  7],\n",
       "       [10,  8,  1, 10,  1,  6,  1,  9,  8],\n",
       "       [ 9,  1,  2,  9,  3, 10,  5,  5,  7],\n",
       "       [ 2,  1,  7,  8,  7,  8,  3,  5,  6],\n",
       "       [ 2, 10,  8,  3,  7,  9, 10,  4,  3],\n",
       "       [ 9,  1,  2,  9, 10, 10,  5,  5,  8],\n",
       "       [ 4,  7,  9,  6,  5,  2,  8,  7,  5],\n",
       "       [ 7, 10,  3,  4, 10, 10,  1,  5,  8],\n",
       "       [ 6,  5, 10,  9,  2,  9,  5,  3, 10]])"
      ]
     },
     "execution_count": 195,
     "metadata": {},
     "output_type": "execute_result"
    }
   ],
   "source": [
    "data = np.random.randint(low=1, high=11, size=(9,9))\n",
    "data"
   ]
  },
  {
   "cell_type": "code",
   "execution_count": 206,
   "metadata": {},
   "outputs": [
    {
     "name": "stdout",
     "output_type": "stream",
     "text": [
      "[[    nan     nan     nan]\n",
      " [1714.      2.4      nan]\n",
      " [1664.      2.52     nan]\n",
      " [1760.      2.54     nan]\n",
      " [1685.      2.74     nan]\n",
      " [1693.      2.83     nan]\n",
      " [1670.      2.91     nan]\n",
      " [1764.      3.       nan]\n",
      " [1764.      3.       nan]\n",
      " [1792.      3.01     nan]\n",
      " [1850.      3.01     nan]\n",
      " [1735.      3.02     nan]\n",
      " [1775.      3.07     nan]\n",
      " [1735.      3.08     nan]\n",
      " [1712.      3.08     nan]\n",
      " [1773.      3.12     nan]\n",
      " [1872.      3.17     nan]\n",
      " [1755.      3.17     nan]\n",
      " [1674.      3.17     nan]\n",
      " [1842.      3.17     nan]\n",
      " [1786.      3.19     nan]\n",
      " [1761.      3.19     nan]\n",
      " [1722.      3.19     nan]\n",
      " [1663.      3.2      nan]\n",
      " [1687.      3.21     nan]\n",
      " [1974.      3.24     nan]\n",
      " [1826.      3.28     nan]\n",
      " [1787.      3.28     nan]\n",
      " [1821.      3.28     nan]\n",
      " [2020.      3.28     nan]\n",
      " [1794.      3.28     nan]\n",
      " [1769.      3.28     nan]\n",
      " [1934.      3.28     nan]\n",
      " [1775.      3.29     nan]\n",
      " [1855.      3.29     nan]\n",
      " [1880.      3.29     nan]\n",
      " [1849.      3.31     nan]\n",
      " [1808.      3.32     nan]\n",
      " [1954.      3.34     nan]\n",
      " [1777.      3.37     nan]\n",
      " [1831.      3.37     nan]\n",
      " [1865.      3.37     nan]\n",
      " [1850.      3.38     nan]\n",
      " [1966.      3.38     nan]\n",
      " [1702.      3.39     nan]\n",
      " [1990.      3.39     nan]\n",
      " [1925.      3.4      nan]\n",
      " [1824.      3.4      nan]\n",
      " [1956.      3.4      nan]\n",
      " [1857.      3.41     nan]\n",
      " [1979.      3.41     nan]\n",
      " [1802.      3.41     nan]\n",
      " [1855.      3.42     nan]\n",
      " [1907.      3.42     nan]\n",
      " [1634.      3.42     nan]\n",
      " [1879.      3.44     nan]\n",
      " [1887.      3.47     nan]\n",
      " [1730.      3.47     nan]\n",
      " [1953.      3.47     nan]\n",
      " [1781.      3.47     nan]\n",
      " [1891.      3.48     nan]\n",
      " [1964.      3.49     nan]\n",
      " [1808.      3.49     nan]\n",
      " [1893.      3.5      nan]\n",
      " [2041.      3.51     nan]\n",
      " [1893.      3.51     nan]\n",
      " [1832.      3.52     nan]\n",
      " [1850.      3.52     nan]\n",
      " [1934.      3.54     nan]\n",
      " [1861.      3.58     nan]\n",
      " [1931.      3.58     nan]\n",
      " [1933.      3.59     nan]\n",
      " [1778.      3.59     nan]\n",
      " [1975.      3.6      nan]\n",
      " [1934.      3.6      nan]\n",
      " [2021.      3.61     nan]\n",
      " [2015.      3.62     nan]\n",
      " [1997.      3.64     nan]\n",
      " [2020.      3.65     nan]\n",
      " [1843.      3.71     nan]\n",
      " [1936.      3.71     nan]\n",
      " [1810.      3.71     nan]\n",
      " [1987.      3.73     nan]\n",
      " [1962.      3.76     nan]\n",
      " [2050.      3.81     nan]]\n"
     ]
    }
   ],
   "source": [
    "#filename = 'Desktop\\WORK\\data.txt'\n",
    "\n",
    "data1 = np.genfromtxt('Desktop/WORK/Dummies.csv',delimiter=',')\n",
    "print(data1)"
   ]
  },
  {
   "cell_type": "code",
   "execution_count": null,
   "metadata": {},
   "outputs": [],
   "source": []
  }
 ],
 "metadata": {
  "kernelspec": {
   "display_name": "Python 3",
   "language": "python",
   "name": "python3"
  },
  "language_info": {
   "codemirror_mode": {
    "name": "ipython",
    "version": 3
   },
   "file_extension": ".py",
   "mimetype": "text/x-python",
   "name": "python",
   "nbconvert_exporter": "python",
   "pygments_lexer": "ipython3",
   "version": "3.7.4"
  }
 },
 "nbformat": 4,
 "nbformat_minor": 2
}
