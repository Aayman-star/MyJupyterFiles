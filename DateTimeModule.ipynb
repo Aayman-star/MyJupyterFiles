{
 "cells": [
  {
   "cell_type": "code",
   "execution_count": 4,
   "metadata": {},
   "outputs": [
    {
     "name": "stdout",
     "output_type": "stream",
     "text": [
      "2020-05-01 13:11:30.090057\n",
      "5\n",
      "2020\n",
      "Type: <class 'datetime.datetime'>\n"
     ]
    }
   ],
   "source": [
    "from datetime import datetime\n",
    "datetime_object = datetime.now()\n",
    "print(datetime_object)\n",
    "print(datetime_object.month)\n",
    "print(datetime_object.year)\n",
    "print('Type:',type(datetime_object))"
   ]
  },
  {
   "cell_type": "code",
   "execution_count": 8,
   "metadata": {},
   "outputs": [
    {
     "name": "stdout",
     "output_type": "stream",
     "text": [
      "1\n",
      "4\n",
      "Friday\n"
     ]
    }
   ],
   "source": [
    "import calendar\n",
    "#Extracting day of the month\n",
    "print(datetime_object.day)\n",
    "#Extracting day of the week in numbers\n",
    "print(datetime_object.weekday())\n",
    "#EXtracting day of the week in words\n",
    "print(calendar.day_name[datetime_object.weekday()])"
   ]
  },
  {
   "cell_type": "code",
   "execution_count": 10,
   "metadata": {},
   "outputs": [
    {
     "name": "stdout",
     "output_type": "stream",
     "text": [
      "13 : 11\n"
     ]
    }
   ],
   "source": [
    "print(datetime_object.hour,':',datetime_object.minute)"
   ]
  },
  {
   "cell_type": "code",
   "execution_count": 12,
   "metadata": {},
   "outputs": [
    {
     "name": "stdout",
     "output_type": "stream",
     "text": [
      "13:37\n"
     ]
    }
   ],
   "source": [
    "print(str(datetime.now().hour)+':'+str(datetime.now().minute))"
   ]
  },
  {
   "cell_type": "code",
   "execution_count": 13,
   "metadata": {},
   "outputs": [
    {
     "name": "stdout",
     "output_type": "stream",
     "text": [
      "(2020, 18, 5)\n"
     ]
    }
   ],
   "source": [
    "print(datetime.now().isocalendar()) #displays Year,Week of the year and day of the week"
   ]
  },
  {
   "cell_type": "code",
   "execution_count": 14,
   "metadata": {},
   "outputs": [
    {
     "name": "stdout",
     "output_type": "stream",
     "text": [
      "1588323075.930264\n"
     ]
    }
   ],
   "source": [
    "print(datetime.timestamp(datetime.now()))"
   ]
  },
  {
   "cell_type": "code",
   "execution_count": 15,
   "metadata": {},
   "outputs": [
    {
     "name": "stdout",
     "output_type": "stream",
     "text": [
      "2020-05-01 13:51:15.930264\n"
     ]
    }
   ],
   "source": [
    "timestamp = 1588323075.930264\n",
    "print(datetime.fromtimestamp(timestamp))"
   ]
  },
  {
   "cell_type": "code",
   "execution_count": null,
   "metadata": {},
   "outputs": [],
   "source": []
  }
 ],
 "metadata": {
  "kernelspec": {
   "display_name": "Python 3",
   "language": "python",
   "name": "python3"
  },
  "language_info": {
   "codemirror_mode": {
    "name": "ipython",
    "version": 3
   },
   "file_extension": ".py",
   "mimetype": "text/x-python",
   "name": "python",
   "nbconvert_exporter": "python",
   "pygments_lexer": "ipython3",
   "version": "3.7.4"
  }
 },
 "nbformat": 4,
 "nbformat_minor": 2
}
